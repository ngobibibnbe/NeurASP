{
 "cells": [
  {
   "cell_type": "code",
   "execution_count": 1,
   "id": "equivalent-direction",
   "metadata": {},
   "outputs": [],
   "source": [
    "import os\n",
    "from spert.evaluator import Evaluator\n",
    "from spert.entities import Dataset, Document, EntityType\n",
    "from spert.input_reader import BaseInputReader, JsonInputReader\n",
    "from typing import List, Tuple, Dict\n",
    "from transformers import BertTokenizer\n",
    "from spert import prediction"
   ]
  },
  {
   "cell_type": "code",
   "execution_count": 4,
   "id": "textile-talent",
   "metadata": {},
   "outputs": [
    {
     "name": "stdout",
     "output_type": "stream",
     "text": [
      "store\n",
      "store\n"
     ]
    }
   ],
   "source": [
    "# Automated evaluation ok \n",
    "thresholds=[0.1,0.3]\n",
    "for threshold in thresholds: \n",
    "    dir =\"predictions/Logs/scierc_treshold_\"+str(threshold) # the directory having all information we need\n",
    "    store = \"predictions/Logs/result_\"+str(threshold)+\".txt\"  # the txt file which will store results \n",
    "    !echo store\n",
    "    #! python automated_evaluation.py $dir scierc > store"
   ]
  },
  {
   "cell_type": "code",
   "execution_count": null,
   "id": "reliable-police",
   "metadata": {},
   "outputs": [],
   "source": [
    "python automated_evaluation.py \"C:\\Users\\sophie\\Desktop\\iCS\\reseacrch project\\NeurASP\\NeurASP\\examples\\NER & RE\\Scierc\\logs\\scierc_treshold_0.1\" > \"C:\\Users\\sophie\\Desktop\\iCS\\reseacrch project\\NeurASP\\NeurASP\\examples\\NER & RE\\Scierc\\result_0.1\"\n",
    "python automated_evaluation.py \"C:\\Users\\sophie\\Desktop\\iCS\\reseacrch project\\NeurASP\\NeurASP\\examples\\NER & RE\\Scierc\\logs\\scierc_treshold_0.3\" > \"C:\\Users\\sophie\\Desktop\\iCS\\reseacrch project\\NeurASP\\NeurASP\\examples\\NER & RE\\Scierc\\result_0.3\""
   ]
  }
 ],
 "metadata": {
  "kernelspec": {
   "display_name": "Python 3.6 (XPython)",
   "language": "python",
   "name": "xpython"
  },
  "language_info": {
   "file_extension": ".py",
   "mimetype": "text/x-python",
   "name": "python",
   "version": "3.6.11"
  },
  "toc": {
   "base_numbering": 1,
   "nav_menu": {},
   "number_sections": true,
   "sideBar": true,
   "skip_h1_title": false,
   "title_cell": "Table of Contents",
   "title_sidebar": "Contents",
   "toc_cell": false,
   "toc_position": {},
   "toc_section_display": true,
   "toc_window_display": false
  }
 },
 "nbformat": 4,
 "nbformat_minor": 5
}
